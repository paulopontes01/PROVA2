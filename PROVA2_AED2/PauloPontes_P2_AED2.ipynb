{
  "nbformat": 4,
  "nbformat_minor": 0,
  "metadata": {
    "colab": {
      "provenance": []
    },
    "kernelspec": {
      "name": "python3",
      "display_name": "Python 3"
    },
    "language_info": {
      "name": "python"
    }
  },
  "cells": [
    {
      "cell_type": "code",
      "execution_count": 2,
      "metadata": {
        "colab": {
          "base_uri": "https://localhost:8080/"
        },
        "id": "N_s1IbWiT2K1",
        "outputId": "763654ed-e175-4572-d418-37defcc84166"
      },
      "outputs": [
        {
          "output_type": "stream",
          "name": "stdout",
          "text": [
            "Lista original: [29, 10, 14, 37, 13]\n",
            "Lista ordenada:  [10, 13, 14, 29, 37]\n",
            "Maior elemento: 37\n"
          ]
        }
      ],
      "source": [
        "def selection_sort(arr):\n",
        "  for i in range(len(arr)):\n",
        "    min_idx = i\n",
        "    for j in range(i+1, len(arr)):\n",
        "      if arr[j] < arr[min_idx]:\n",
        "        min_idx = j\n",
        "    arr[i], arr[min_idx] = arr[min_idx], arr[i]\n",
        "  return arr\n",
        "\n",
        "def find_max(lista_ordenada):\n",
        "  if len(lista_ordenada) == 0:\n",
        "    return None\n",
        "  return lista_ordenada[-1]\n",
        "\n",
        "# Lista de exemplo\n",
        "lista = [29, 10, 14, 37, 13]\n",
        "print(\"Lista original:\", lista)\n",
        "\n",
        "sorted_list = selection_sort(lista)\n",
        "print(\"Lista ordenada: \", sorted_list)\n",
        "\n",
        "# Exemplo de utilização\n",
        "print(\"Maior elemento:\", find_max(sorted_list))\n"
      ]
    }
  ]
}